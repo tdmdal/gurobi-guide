{
  "nbformat": 4,
  "nbformat_minor": 0,
  "metadata": {
    "colab": {
      "provenance": []
    },
    "kernelspec": {
      "name": "python3",
      "display_name": "Python 3"
    },
    "language_info": {
      "name": "python"
    }
  },
  "cells": [
    {
      "cell_type": "markdown",
      "source": [
        "# Intro\n",
        "\n",
        "[Gurobi](https://www.gurobi.com) is a leading optimization software in the industry. It's interface to Python is [`gurobipy`](https://pypi.org/project/gurobipy/), a Python package that allows you to call Gurobi solvers from Python. To get you started with `gurobipy`, this example shows you how to formulate and solve a simple Mixed Integer Programming (MIP) problem.\n",
        "\n",
        "The MIP problem we will solve is the following.\n",
        "\n",
        "$$\n",
        "\\max_{x, y, z} x + y + 2\n",
        "\\\\ s.t. x + 2 y + 3z <= 4\n",
        "\\\\ x + y >= 1\n",
        "\\\\ x, y, z \\in \\{0,1\\}\n",
        "$$\n",
        "\n",
        "Note that this is [the same problem](https://www.gurobi.com/documentation/10.0/quickstart_windows/cs_example_mip1_py.html) as in Gurobi's official document. It's reproduced here as a Notebook so you can walk through it step by step."
      ],
      "metadata": {
        "id": "sbOEPGxDUw2d"
      }
    },
    {
      "cell_type": "markdown",
      "source": [
        "# Setup\n",
        "If you are running this Notebook in Google Colab, you need to first install the `gurobipy` package. However, if you are running this Notebook on your local computer, and you have Gurobi and `gurobipy` already setup, you can skip this step, i.e., `pip install` code cell.\n",
        "\n",
        "The `gurobipy` package ships with a size-limited trial license which can solve models with up to 2000 variables and 2000 constraints This is more than sufficient for this problem."
      ],
      "metadata": {
        "id": "M6ovNKExbWlW"
      }
    },
    {
      "cell_type": "code",
      "execution_count": null,
      "metadata": {
        "id": "t6g-PedRTB5F"
      },
      "outputs": [],
      "source": [
        "!pip install gurobipy"
      ]
    },
    {
      "cell_type": "markdown",
      "source": [
        "Once we installed `gurobipy`, we import it. This makes all Gurobi functions and classes available through a `gp.` prefix."
      ],
      "metadata": {
        "id": "p5OigTeb97lf"
      }
    },
    {
      "cell_type": "code",
      "source": [
        "import gurobipy as gp"
      ],
      "metadata": {
        "id": "NON-28hlVy_E"
      },
      "execution_count": null,
      "outputs": []
    },
    {
      "cell_type": "markdown",
      "source": [
        "# Create a model\n",
        "We first create a model for the optimization problem at hand. A Gurobi model holds a single optimization problem. It consists of a set of [variables](https://www.gurobi.com/documentation/10.0/refman/variables.html), a set of [constraints](https://www.gurobi.com/documentation/10.0/refman/constraints.html), and the associated attributes (variable bounds, objective coefficients, etc.). In this example, we create a model object `m` using the `Model` class constructor[`gp.Model()`](https://www.gurobi.com/documentation/10.0/refman/py_model2.html)."
      ],
      "metadata": {
        "id": "b00qOXdgcKW_"
      }
    },
    {
      "cell_type": "code",
      "source": [
        "# Solve the following MIP:\n",
        "#  maximize\n",
        "#        x + y + 2z\n",
        "#  subject to\n",
        "#        x + 2y + 3z <= 4\n",
        "#        x + y >= 1\n",
        "#        x, y, z binary\n",
        "\n",
        "# Create a new model\n",
        "m = gp.Model()"
      ],
      "metadata": {
        "id": "IVmamX0uc0k9"
      },
      "execution_count": null,
      "outputs": []
    },
    {
      "cell_type": "markdown",
      "source": [
        "# Create variables\n",
        "\n",
        "We then add variables to the model we just created. Variables are added through the [`addVar()`](https://www.gurobi.com/documentation/10.0/refman/py_model_addvar.html) method on a model object (or [`addVars()`](https://www.gurobi.com/documentation/10.0/refman/py_model_addvars.html) if you wish to add more than one at a time).\n",
        "\n",
        "\n",
        "[Variables](https://www.gurobi.com/documentation/10.0/refman/variables.html) can have different types. The available types are continuous, general integer, binary, semi-continuous, and semi-integer. In our problem, the variables are all binaries, i.e., 0 or 1. We specify the type of a variable under the `vtype` argument. In the example, we also specify the name of each variable under the `name` argument."
      ],
      "metadata": {
        "id": "oFkzqjDVc2Yl"
      }
    },
    {
      "cell_type": "code",
      "source": [
        "# Create variables\n",
        "x = m.addVar(vtype='B', name=\"x\")\n",
        "y = m.addVar(vtype='B', name=\"y\")\n",
        "z = m.addVar(vtype='B', name=\"z\")"
      ],
      "metadata": {
        "id": "C7Xkp8SNc9WB"
      },
      "execution_count": null,
      "outputs": []
    },
    {
      "cell_type": "markdown",
      "source": [
        "# Set objective function\n",
        "\n",
        "Now, we set the objective function. Every optimization model has an objective function, which is the function on the decision variables that you wish to minimize or maximize.\n",
        "\n",
        "In the example, we specify the objective function we want to maximize using the model's[`setObjective`](https://www.gurobi.com/documentation/10.0/refman/py_model_setobjective.html) method."
      ],
      "metadata": {
        "id": "lkJ2CpQNdIE3"
      }
    },
    {
      "cell_type": "code",
      "source": [
        "# Set objective function\n",
        "m.setObjective(x + y + 2 * z, gp.GRB.MAXIMIZE)"
      ],
      "metadata": {
        "id": "zaEg7vJcdNpB"
      },
      "execution_count": null,
      "outputs": []
    },
    {
      "cell_type": "markdown",
      "source": [
        "# Add constraints\n",
        "\n",
        "The last step of formulating this problem is to add [constraints](https://www.gurobi.com/documentation/10.0/refman/constraints.html). In our case, we have two linear constraints (see [here](https://www.gurobi.com/documentation/10.0/refman/py_tempconstr.html#pythonclass:TempConstr) for other types of constraints). Note that the constraint on variables being binaries was already set when we created variables. "
      ],
      "metadata": {
        "id": "DWrEJgRJdRS8"
      }
    },
    {
      "cell_type": "code",
      "source": [
        "# Add constraints\n",
        "m.addConstr(x + 2 * y + 3 * z <= 4)\n",
        "m.addConstr(x + y >= 1)"
      ],
      "metadata": {
        "id": "ORfzzWR1dV4t"
      },
      "execution_count": null,
      "outputs": []
    },
    {
      "cell_type": "markdown",
      "source": [
        "# Solve it and print result\n",
        "\n",
        "Now, we are ready to solve the problem by calling the [`Model.optimize()`](https://www.gurobi.com/documentation/10.0/refman/py_model_optimize.html) method.\n",
        "\n",
        "Finally we display the result. Note that the optimal objective value is stored in the `objVal` attribute/property of the model object `m`, and the optimal solutions are stored in the `X` attribute/property of the variable objects, `x`, `y`, and `z`. See [here](https://www.gurobi.com/documentation/10.0/refman/attributes.html#sec:Attributes) for all attributes of a model and a variable."
      ],
      "metadata": {
        "id": "dXn1e_IMdXxH"
      }
    },
    {
      "cell_type": "code",
      "source": [
        "# Solve it!\n",
        "m.optimize()\n",
        "\n",
        "print(f\"Optimal objective value: {m.objVal}\")\n",
        "print(f\"Solution values: x={x.X}, y={y.X}, z={z.X}\")"
      ],
      "metadata": {
        "id": "aljmLtxkdbX6"
      },
      "execution_count": null,
      "outputs": []
    },
    {
      "cell_type": "markdown",
      "source": [],
      "metadata": {
        "id": "oewizUXfVlp8"
      }
    }
  ]
}